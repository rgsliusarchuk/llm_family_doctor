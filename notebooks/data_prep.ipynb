{
 "cells": [
  {
   "cell_type": "code",
   "execution_count": null,
   "id": "c79fd6e3",
   "metadata": {},
   "outputs": [],
   "source": [
    "%pip install -q -r requirements.txt "
   ]
  },
  {
   "cell_type": "code",
   "execution_count": null,
   "id": "ec507fe2",
   "metadata": {},
   "outputs": [],
   "source": [
    "# 🔧 Config | run once per session\n",
    "import os, pathlib, textwrap, pprint\n",
    "\n",
    "# (A)  set / override env vars _for this Colab kernel only_\n",
    "os.environ[\"MODEL_ID\"]   = \"intfloat/multilingual-e5-base\"          # or any HF model id\n",
    "os.environ[\"INDEX_PATH\"] = \"data/faiss_index\"\n",
    "os.environ[\"MAP_PATH\"]   = \"data/doc_map.pkl\"\n",
    "\n",
    "# (B)  optional: write them into a .env file so downstream scripts pick them up too\n",
    "env_path = pathlib.Path(\".env\")\n",
    "env_path.write_text(textwrap.dedent(f\"\"\"\n",
    "    MODEL_ID={os.environ['MODEL_ID']}\n",
    "    INDEX_PATH={os.environ['INDEX_PATH']}\n",
    "    MAP_PATH={os.environ['MAP_PATH']}\n",
    "\"\"\").strip())\n",
    "\n",
    "print(\"✅  Environment configured\")\n",
    "pprint.pprint(dict(os.environ | {k:v for k,v in os.environ.items() if k in (\"MODEL_ID\",\"INDEX_PATH\",\"MAP_PATH\")}))"
   ]
  },
  {
   "cell_type": "code",
   "execution_count": null,
   "id": "7e8eeb84",
   "metadata": {},
   "outputs": [],
   "source": [
    "%python scripts/ingest_protocol.py --dir data/raw_pdfs --recursive"
   ]
  },
  {
   "cell_type": "code",
   "execution_count": null,
   "id": "8a49f138",
   "metadata": {},
   "outputs": [],
   "source": [
    "%python src/indexing/build_index.py --hf-model intfloat/multilingual-e5-base"
   ]
  },
  {
   "cell_type": "code",
   "execution_count": null,
   "id": "21f7d918",
   "metadata": {},
   "outputs": [],
   "source": [
    "import faiss, pickle, numpy as np\n",
    "from sentence_transformers import SentenceTransformer\n",
    "model  = SentenceTransformer(os.environ[\"MODEL_ID\"])\n",
    "index  = faiss.read_index(os.environ[\"INDEX_PATH\"])\n",
    "snip   = pickle.load(open(os.environ[\"MAP_PATH\"], \"rb\"))\n",
    "\n",
    "def search(q, k=3):\n",
    "    vec = model.encode(q, normalize_embeddings=True).astype(\"float32\")[None]\n",
    "    D, I = index.search(vec, k)\n",
    "    for rank, idx in enumerate(I[0], 1):\n",
    "        print(f\"{rank}. sim={D[0][rank-1]:.3f} → {snip[idx][:120]}…\\\\n\")\n",
    "search(\"головний біль в скроневій ділянці\")"
   ]
  }
 ],
 "metadata": {
  "kernelspec": {
   "display_name": "base",
   "language": "python",
   "name": "python3"
  },
  "language_info": {
   "name": "python",
   "version": "3.13.2"
  }
 },
 "nbformat": 4,
 "nbformat_minor": 5
}
